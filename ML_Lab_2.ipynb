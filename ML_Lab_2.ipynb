{
  "nbformat": 4,
  "nbformat_minor": 0,
  "metadata": {
    "colab": {
      "provenance": [],
      "authorship_tag": "ABX9TyPL+hgifoUdWLEcsdGIpZWe",
      "include_colab_link": true
    },
    "kernelspec": {
      "name": "python3",
      "display_name": "Python 3"
    },
    "language_info": {
      "name": "python"
    }
  },
  "cells": [
    {
      "cell_type": "markdown",
      "metadata": {
        "id": "view-in-github",
        "colab_type": "text"
      },
      "source": [
        "<a href=\"https://colab.research.google.com/github/bhupendradhami/colab/blob/main/ML_Lab_2.ipynb\" target=\"_parent\"><img src=\"https://colab.research.google.com/assets/colab-badge.svg\" alt=\"Open In Colab\"/></a>"
      ]
    },
    {
      "cell_type": "markdown",
      "source": [
        "###Q1. Write a program for linear regression for a given dataset & predict the value of y when n=10."
      ],
      "metadata": {
        "id": "RtVVDgdcUYE-"
      }
    },
    {
      "cell_type": "code",
      "execution_count": 1,
      "metadata": {
        "id": "l0_GC7tPgj99"
      },
      "outputs": [],
      "source": [
        "from scipy import stats"
      ]
    },
    {
      "cell_type": "code",
      "source": [
        "x=[5,6,7,8,9,10,11,12,13,14,15,16,17,18]\n",
        "y=[44,55,66,77,22,32,11,45,65,78,87,23,98,34]"
      ],
      "metadata": {
        "id": "TxUJgLgri7SK"
      },
      "execution_count": 2,
      "outputs": []
    },
    {
      "cell_type": "code",
      "source": [
        "slope, intercept, r, p, std_err=stats.linregress(x,y)"
      ],
      "metadata": {
        "id": "PdS-3c0UjOdU"
      },
      "execution_count": 3,
      "outputs": []
    },
    {
      "cell_type": "code",
      "source": [
        "def myfunc(x):\n",
        "  return slope*x +intercept"
      ],
      "metadata": {
        "id": "6FZsTXoWjhFn"
      },
      "execution_count": 4,
      "outputs": []
    },
    {
      "cell_type": "code",
      "source": [
        "s=myfunc(10)\n",
        "print(s)"
      ],
      "metadata": {
        "colab": {
          "base_uri": "https://localhost:8080/"
        },
        "id": "YGA1ovFbjzBY",
        "outputId": "18cda76c-93ff-4356-8f84-50d1816d38bd"
      },
      "execution_count": 5,
      "outputs": [
        {
          "output_type": "stream",
          "name": "stdout",
          "text": [
            "51.1956043956044\n"
          ]
        }
      ]
    },
    {
      "cell_type": "markdown",
      "source": [
        "###Q2. Write a program for visualizing the slope on given input using matlplotlib."
      ],
      "metadata": {
        "id": "e_6nRBOiVGT3"
      }
    },
    {
      "cell_type": "code",
      "source": [
        "import matplotlib.pyplot as plt"
      ],
      "metadata": {
        "id": "autFm4pbVFQb"
      },
      "execution_count": 6,
      "outputs": []
    },
    {
      "cell_type": "code",
      "source": [
        "mymodel=list(map(myfunc,x))\n",
        "plt.scatter(x,y)\n",
        "plt.plot(x,mymodel)\n",
        "plt.show()"
      ],
      "metadata": {
        "colab": {
          "base_uri": "https://localhost:8080/",
          "height": 430
        },
        "id": "lAPTFpdvocd7",
        "outputId": "651c767f-232c-40c9-c975-ce5e8a3c0c44"
      },
      "execution_count": 7,
      "outputs": [
        {
          "output_type": "display_data",
          "data": {
            "text/plain": [
              "<Figure size 640x480 with 1 Axes>"
            ],
            "image/png": "[encoded data removed]"
          },
          "metadata": {}
        }
      ]
    },
    {
      "cell_type": "markdown",
      "source": [
        "###Q3. Write a program for linear regression & print the coefficient for the calculated slope."
      ],
      "metadata": {
        "id": "MoJ5qyn3VfEH"
      }
    },
    {
      "cell_type": "code",
      "source": [
        "from sklearn.linear_model import LinearRegression\n"
      ],
      "metadata": {
        "id": "10iUptRlsrxl"
      },
      "execution_count": 8,
      "outputs": []
    },
    {
      "cell_type": "code",
      "source": [
        "a = [[1], [2], [3], [4], [5]]\n",
        "b = [[2], [4], [5], [4], [5]]"
      ],
      "metadata": {
        "id": "I-QGiYQgu4X2"
      },
      "execution_count": 9,
      "outputs": []
    },
    {
      "cell_type": "code",
      "source": [
        "reg = LinearRegression()\n",
        "\n",
        "# Train the model using the input data\n",
        "reg.fit(a, b)\n",
        "\n",
        "# Print the coefficient\n",
        "print(reg.coef_)"
      ],
      "metadata": {
        "colab": {
          "base_uri": "https://localhost:8080/"
        },
        "id": "8Qve1yYVuszW",
        "outputId": "d0cc7321-e45b-4f9f-c6d6-e33a02285d9f"
      },
      "execution_count": 10,
      "outputs": [
        {
          "output_type": "stream",
          "name": "stdout",
          "text": [
            "[[0.6]]\n"
          ]
        }
      ]
    }
  ]
}