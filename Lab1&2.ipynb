{
  "nbformat": 4,
  "nbformat_minor": 0,
  "metadata": {
    "colab": {
      "provenance": [],
      "authorship_tag": "ABX9TyMqgHs7+w8n5uLY0aLvZ/tN",
      "include_colab_link": true
    },
    "kernelspec": {
      "name": "python3",
      "display_name": "Python 3"
    },
    "language_info": {
      "name": "python"
    }
  },
  "cells": [
    {
      "cell_type": "markdown",
      "metadata": {
        "id": "view-in-github",
        "colab_type": "text"
      },
      "source": [
        "<a href=\"https://colab.research.google.com/github/bhupendradhami/colab/blob/main/Lab1%262.ipynb\" target=\"_parent\"><img src=\"https://colab.research.google.com/assets/colab-badge.svg\" alt=\"Open In Colab\"/></a>"
      ]
    },
    {
      "cell_type": "markdown",
      "source": [
        "###Q1. Write a Python program to display the current date and time. \n"
      ],
      "metadata": {
        "id": "BCcgs97Np1Gp"
      }
    },
    {
      "cell_type": "code",
      "source": [
        "import datetime as dt\n",
        "now=dt.datetime.now()\n",
        "print(\"Current date & time : \"+now.strftime(\"%Y-%m-%d %H:%M:%S\"))"
      ],
      "metadata": {
        "colab": {
          "base_uri": "https://localhost:8080/"
        },
        "id": "esGZ61OVs8j6",
        "outputId": "afb2e7b7-b4a4-4ad3-b452-764aedbded3b"
      },
      "execution_count": 30,
      "outputs": [
        {
          "output_type": "stream",
          "name": "stdout",
          "text": [
            "Current date & time : 2023-04-09 06:52:55\n"
          ]
        }
      ]
    },
    {
      "cell_type": "markdown",
      "source": [
        "###Q2. Write a Python program that calculates the area of a circle based on the radius entered by the user"
      ],
      "metadata": {
        "id": "E0BrwnuNtWDt"
      }
    },
    {
      "cell_type": "code",
      "source": [
        "from math import pi\n",
        "r=float(input(\"Enter the radius: \"))\n",
        "a=pi*r**2\n",
        "ans=round(a,2)\n",
        "print(\"Area of the circle is: \"+str(a))\n",
        "print(\"Area of the circle is: \"+str(ans))"
      ],
      "metadata": {
        "colab": {
          "base_uri": "https://localhost:8080/"
        },
        "id": "0xF6Xyjctmn9",
        "outputId": "0d29038d-3457-4788-e876-a79596ffeeb4"
      },
      "execution_count": 31,
      "outputs": [
        {
          "output_type": "stream",
          "name": "stdout",
          "text": [
            "Enter the radius: 4\n",
            "Area of the circle is: 50.26548245743669\n",
            "Area of the circle is: 50.27\n"
          ]
        }
      ]
    },
    {
      "cell_type": "markdown",
      "source": [
        "###Q3. Write a Python program that accepts the user's first and last name and prints them in reverse order with a space between them."
      ],
      "metadata": {
        "id": "XgVtYDyFtwTP"
      }
    },
    {
      "cell_type": "code",
      "source": [
        "fname = input(\"Input your First Name : \")\n",
        "lname = input(\"Input your Last Name : \")\n",
        "print (\"Hello \" + lname + \" \" + fname)"
      ],
      "metadata": {
        "colab": {
          "base_uri": "https://localhost:8080/"
        },
        "id": "tfdJsfYzt3td",
        "outputId": "fe88cf10-aa6e-485c-912b-e8977a5437a1"
      },
      "execution_count": 32,
      "outputs": [
        {
          "output_type": "stream",
          "name": "stdout",
          "text": [
            "Input your First Name : Bhuppi\n",
            "Input your Last Name : Dhami\n",
            "Hello Dhami Bhuppi\n"
          ]
        }
      ]
    },
    {
      "cell_type": "markdown",
      "source": [
        "###Q4. Write a Python program to display the first and last colors from the following list. "
      ],
      "metadata": {
        "id": "B2XpAUAXt_Lv"
      }
    },
    {
      "cell_type": "code",
      "source": [
        "color_list = [\"Red\",\"Green\",\"White\" ,\"Black\"]\n",
        "color_list = [\"Red\",\"Green\",\"White\" ,\"Black\"]\n",
        "print( \"%s %s\"%(color_list[0],color_list[-1]))"
      ],
      "metadata": {
        "colab": {
          "base_uri": "https://localhost:8080/"
        },
        "id": "WDoQKCbouElp",
        "outputId": "ba36247c-90dd-4393-bfb9-a2f945d7107d"
      },
      "execution_count": 33,
      "outputs": [
        {
          "output_type": "stream",
          "name": "stdout",
          "text": [
            "Red Black\n"
          ]
        }
      ]
    },
    {
      "cell_type": "markdown",
      "source": [
        "###Q5. Write a Python program that accepts an integer (n) and computes the value of n+nn+nnn."
      ],
      "metadata": {
        "id": "FGe1SI89usdy"
      }
    },
    {
      "cell_type": "code",
      "source": [
        "a = int(input(\"Input an integer : \"))\n",
        "n1 = int( \"%s\" % a )\n",
        "n2 = int( \"%s%s\" % (a,a) )\n",
        "n3 = int( \"%s%s%s\" % (a,a,a) )\n",
        "print (n1+n2+n3)"
      ],
      "metadata": {
        "colab": {
          "base_uri": "https://localhost:8080/"
        },
        "id": "wjWdGg8XuuJC",
        "outputId": "a9c0703b-26c7-475c-9698-ee6b84de471a"
      },
      "execution_count": 34,
      "outputs": [
        {
          "output_type": "stream",
          "name": "stdout",
          "text": [
            "Input an integer : 4\n",
            "492\n"
          ]
        }
      ]
    },
    {
      "cell_type": "markdown",
      "source": [
        "###Q6. Create a Numpy array object"
      ],
      "metadata": {
        "id": "6koU4nDUuynd"
      }
    },
    {
      "cell_type": "code",
      "source": [
        "import numpy as np\n",
        "arr = np.array([1, 2, 3, 4, 5])\n",
        "print(arr)\n",
        "print(type(arr))"
      ],
      "metadata": {
        "colab": {
          "base_uri": "https://localhost:8080/"
        },
        "id": "tV8gOaMUu49g",
        "outputId": "1ef0032b-a997-454c-827a-a8735c999638"
      },
      "execution_count": 35,
      "outputs": [
        {
          "output_type": "stream",
          "name": "stdout",
          "text": [
            "[1 2 3 4 5]\n",
            "<class 'numpy.ndarray'>\n"
          ]
        }
      ]
    },
    {
      "cell_type": "markdown",
      "source": [
        "###Q7. Create a 2-D array containing two arrays with the values 1,2,3 and 4,5,6"
      ],
      "metadata": {
        "id": "FAR1K5q5u8s_"
      }
    },
    {
      "cell_type": "code",
      "source": [
        "import numpy as np\n",
        "arr = np.array([[1, 2, 3], [4, 5, 6]])\n",
        "print(arr)"
      ],
      "metadata": {
        "colab": {
          "base_uri": "https://localhost:8080/"
        },
        "id": "lqe3wdJ-vEwQ",
        "outputId": "fa1919c0-04c9-460b-cbd7-98437703d6f3"
      },
      "execution_count": 36,
      "outputs": [
        {
          "output_type": "stream",
          "name": "stdout",
          "text": [
            "[[1 2 3]\n",
            " [4 5 6]]\n"
          ]
        }
      ]
    },
    {
      "cell_type": "markdown",
      "source": [
        "###Q8.Create a 3-D array with two 2-D arrays, both containing two arrays with the values 1,2,3 and 4,5,6:\n"
      ],
      "metadata": {
        "id": "Op_mqs5dvJH7"
      }
    },
    {
      "cell_type": "code",
      "source": [
        "import numpy as np\n",
        "arr = np.array([[[1, 2, 3], [4, 5, 6]], [[1, 2, 3], [4, 5, 6]]])\n",
        "print(arr)"
      ],
      "metadata": {
        "colab": {
          "base_uri": "https://localhost:8080/"
        },
        "id": "pLXtDBmPvPaH",
        "outputId": "c277e089-97cf-4e7b-97f2-9e62f832035d"
      },
      "execution_count": 37,
      "outputs": [
        {
          "output_type": "stream",
          "name": "stdout",
          "text": [
            "[[[1 2 3]\n",
            "  [4 5 6]]\n",
            "\n",
            " [[1 2 3]\n",
            "  [4 5 6]]]\n"
          ]
        }
      ]
    },
    {
      "cell_type": "markdown",
      "source": [
        "###Q9. Check the dimensions of the arrays"
      ],
      "metadata": {
        "id": "uEYV4XQwvTyz"
      }
    },
    {
      "cell_type": "code",
      "source": [
        "import numpy as np\n",
        "a = np.array(42)\n",
        "b = np.array([1, 2, 3, 4, 5])\n",
        "c = np.array([[1, 2, 3], [4, 5, 6]])\n",
        "d = np.array([[[1, 2, 3], [4, 5, 6]], [[1, 2, 3], [4, 5, 6]]])\n",
        "print(a.ndim)\n",
        "print(b.ndim)\n",
        "print(c.ndim)\n",
        "print(d.ndim)"
      ],
      "metadata": {
        "colab": {
          "base_uri": "https://localhost:8080/"
        },
        "id": "wVIO2rkyveyP",
        "outputId": "4db23fe2-2695-4dad-fd1e-45e4d63b60cd"
      },
      "execution_count": 38,
      "outputs": [
        {
          "output_type": "stream",
          "name": "stdout",
          "text": [
            "0\n",
            "1\n",
            "2\n",
            "3\n"
          ]
        }
      ]
    },
    {
      "cell_type": "markdown",
      "source": [
        "###Q10. Access the element on the first row, second column:"
      ],
      "metadata": {
        "id": "QrTeqEejvjUK"
      }
    },
    {
      "cell_type": "code",
      "source": [
        "import numpy as np\n",
        "arr = np.array([[1,2,3,4,5], [6,7,8,9,10]])\n",
        "print('2nd element on 1st row: ', arr[0, 1])"
      ],
      "metadata": {
        "colab": {
          "base_uri": "https://localhost:8080/"
        },
        "id": "Tmpv4ILnvlqq",
        "outputId": "188a04de-5198-4871-a3bf-ac23db5893f0"
      },
      "execution_count": 39,
      "outputs": [
        {
          "output_type": "stream",
          "name": "stdout",
          "text": [
            "2nd element on 1st row:  2\n"
          ]
        }
      ]
    },
    {
      "cell_type": "markdown",
      "source": [
        "###Q11. Access the element on the 2nd row, 5th column:"
      ],
      "metadata": {
        "id": "PUByYPxLvrx2"
      }
    },
    {
      "cell_type": "code",
      "source": [
        "import numpy as np\n",
        "arr = np.array([[1,2,3,4,5], [6,7,8,9,10]])\n",
        "print('5th element on 2nd row: ', arr[1, 4])"
      ],
      "metadata": {
        "colab": {
          "base_uri": "https://localhost:8080/"
        },
        "id": "vi34Yxd7vtas",
        "outputId": "7b8757af-8f15-44fb-a5ce-0a1ea894df7a"
      },
      "execution_count": 40,
      "outputs": [
        {
          "output_type": "stream",
          "name": "stdout",
          "text": [
            "5th element on 2nd row:  10\n"
          ]
        }
      ]
    },
    {
      "cell_type": "markdown",
      "source": [
        "###Q12. Descriptive Analysis"
      ],
      "metadata": {
        "id": "xXCebhjkvxyi"
      }
    },
    {
      "cell_type": "code",
      "source": [
        "import scipy as sp\n",
        "import numpy as np\n",
        "nums=np.random.randint(1,20,size=(1,18))[0]\n",
        "print(\"Data :\", nums)\n",
        "print(\"Get Descriptive Statistics\")\n",
        "print(\"Mean :\",np.mean(nums))\n",
        "print(\"Median :\",np.median(nums))\n",
        "from scipy import stats, optimize, interpolate\n",
        "print(\"Mode :\",sp.stats.mode(nums,keepdims=True))\n",
        "print('Standard Deviation :',np.std(nums))\n",
        "print('Variance :',np.var(nums))\n",
        "print('Skew :',sp.stats.skew(nums))\n",
        "print('Kurtosis :',sp.stats.kurtosis(nums))"
      ],
      "metadata": {
        "colab": {
          "base_uri": "https://localhost:8080/"
        },
        "id": "sUMP_LEFv4gh",
        "outputId": "38c309ba-9bc6-456c-cded-f59c17584fbc"
      },
      "execution_count": 42,
      "outputs": [
        {
          "output_type": "stream",
          "name": "stdout",
          "text": [
            "Data : [11  7 12 13 17 16 17  9  2 13  3  8  7  7 18 18 18 16]\n",
            "get descriptive stats\n",
            "Mean : 11.777777777777779\n",
            "Median : 12.5\n",
            "Mode : ModeResult(mode=array([7]), count=array([3]))\n",
            "Standard Deviation : 5.126787553359701\n",
            "Variance : 26.28395061728395\n",
            "Skew : -0.35142484023194304\n",
            "Kurtosis : -1.107948765410717\n"
          ]
        }
      ]
    }
  ]
}