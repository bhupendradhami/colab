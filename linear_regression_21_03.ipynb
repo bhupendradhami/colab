{
  "nbformat": 4,
  "nbformat_minor": 0,
  "metadata": {
    "colab": {
      "provenance": [],
      "authorship_tag": "ABX9TyMtG3lnDQejc4YlhZNaRTz1",
      "include_colab_link": true
    },
    "kernelspec": {
      "name": "python3",
      "display_name": "Python 3"
    },
    "language_info": {
      "name": "python"
    }
  },
  "cells": [
    {
      "cell_type": "markdown",
      "metadata": {
        "id": "view-in-github",
        "colab_type": "text"
      },
      "source": [
        "<a href=\"https://colab.research.google.com/github/bhupendradhami/colab/blob/main/linear_regression_21_03.ipynb\" target=\"_parent\"><img src=\"https://colab.research.google.com/assets/colab-badge.svg\" alt=\"Open In Colab\"/></a>"
      ]
    },
    {
      "cell_type": "code",
      "execution_count": 6,
      "metadata": {
        "id": "l0_GC7tPgj99"
      },
      "outputs": [],
      "source": [
        "from scipy import stats"
      ]
    },
    {
      "cell_type": "code",
      "source": [
        "x=[5,6,7,8,9,10,11,12,13,14,15,16,17,18]\n",
        "y=[44,55,66,77,22,33,11,45,65,78,87,23,98,34]"
      ],
      "metadata": {
        "id": "TxUJgLgri7SK"
      },
      "execution_count": null,
      "outputs": []
    },
    {
      "cell_type": "code",
      "source": [
        "slope, intercept, r, p, std_err=stats.linregress(x,y)"
      ],
      "metadata": {
        "id": "PdS-3c0UjOdU"
      },
      "execution_count": null,
      "outputs": []
    },
    {
      "cell_type": "code",
      "source": [
        "def myfunc(x):\n",
        "  return slope*x +intercept"
      ],
      "metadata": {
        "id": "6FZsTXoWjhFn"
      },
      "execution_count": null,
      "outputs": []
    },
    {
      "cell_type": "code",
      "source": [
        "s=myfunc(20)\n",
        "print(s)"
      ],
      "metadata": {
        "colab": {
          "base_uri": "https://localhost:8080/"
        },
        "id": "YGA1ovFbjzBY",
        "outputId": "aa178fec-0dc8-4a5a-ea86-0b8f841ff854"
      },
      "execution_count": 7,
      "outputs": [
        {
          "output_type": "stream",
          "name": "stdout",
          "text": [
            "60.85934065934066\n"
          ]
        }
      ]
    }
  ]
}